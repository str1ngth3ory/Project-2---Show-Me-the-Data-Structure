{
 "cells": [
  {
   "cell_type": "code",
   "execution_count": 11,
   "id": "f6c39eed",
   "metadata": {},
   "outputs": [
    {
     "name": "stdout",
     "output_type": "stream",
     "text": [
      ".\\testdir\\subdir1\\a.c\n",
      ".\\testdir\\subdir3\\subsubdir1\\b.c\n",
      ".\\testdir\\subdir5\\a.c\n",
      ".\\testdir\\t1.c\n"
     ]
    }
   ],
   "source": [
    "import os\n",
    "\n",
    "def find_files(suffix, path):\n",
    "    \"\"\"\n",
    "    Find all files beneath path with file name suffix.\n",
    "\n",
    "    Note that a path may contain further subdirectories\n",
    "    and those subdirectories may also contain further subdirectories.\n",
    "\n",
    "    There are no limit to the depth of the subdirectories can be.\n",
    "\n",
    "    Args:\n",
    "      suffix(str): suffix if the file name to be found\n",
    "      path(str): path of the file system\n",
    "\n",
    "    Returns:\n",
    "       a list of paths\n",
    "    \"\"\"\n",
    "    list_files = []\n",
    "      \n",
    "    # Walk through each item in the directory\n",
    "    for item in os.listdir(path):\n",
    "        \n",
    "        # if item is a file, check if it has the suffix\n",
    "        temp_path = os.path.join(path, item)\n",
    "        \n",
    "        if os.path.isfile(temp_path):\n",
    "            if temp_path.endswith(suffix):\n",
    "                list_files.append(temp_path)\n",
    "        \n",
    "        # if item is a directory, check if the directory contains file with the suffix\n",
    "        elif os.path.isdir(temp_path):\n",
    "                list_files = list_files + find_files(suffix, temp_path)\n",
    "                \n",
    "    return list_files\n",
    "\n",
    "for i in find_files('.c', '.'):\n",
    "    print(i)"
   ]
  },
  {
   "cell_type": "code",
   "execution_count": null,
   "id": "3754ab5c",
   "metadata": {},
   "outputs": [],
   "source": []
  }
 ],
 "metadata": {
  "kernelspec": {
   "display_name": "Python 3",
   "language": "python",
   "name": "python3"
  },
  "language_info": {
   "codemirror_mode": {
    "name": "ipython",
    "version": 3
   },
   "file_extension": ".py",
   "mimetype": "text/x-python",
   "name": "python",
   "nbconvert_exporter": "python",
   "pygments_lexer": "ipython3",
   "version": "3.8.8"
  }
 },
 "nbformat": 4,
 "nbformat_minor": 5
}
